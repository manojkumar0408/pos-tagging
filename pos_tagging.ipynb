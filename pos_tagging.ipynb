{
 "cells": [
  {
   "cell_type": "code",
   "execution_count": 2,
   "metadata": {},
   "outputs": [],
   "source": [
    "import string\n",
    "\n",
    "def read_file(corpus):\n",
    "\n",
    "    data = []\n",
    "\n",
    "    with open(corpus, \"r\") as file:\n",
    "        for line in file.readlines():\n",
    "            words_tags = line.strip(\"\\n\").split(\" \")\n",
    "            words = [(wt.split(\"_\"))[0] for wt in words_tags][:-1]\n",
    "            words = \" \".join(words)\n",
    "            result = words.translate(str.maketrans('', '', string.punctuation))\n",
    "            words = result.split(\" \")\n",
    "            tags = [(wt.split(\"_\"))[1] for wt in words_tags][:-1]\n",
    "            tags = [t for t in tags if t != 'PU']\n",
    "            data.append((words, tags))\n",
    "\n",
    "    return data\n"
   ]
  },
  {
   "cell_type": "code",
   "execution_count": 3,
   "metadata": {},
   "outputs": [],
   "source": [
    "train_file = \"./macmorpho-v3/macmorpho-train.txt\"\n",
    "test_file = \"./macmorpho-v3/macmorpho-test.txt\"\n",
    "validation_file = \"./macmorpho-v3/macmorpho-dev.txt\"\n",
    "\n",
    "train_data = read_file(train_file)\n",
    "test_data = read_file(test_file)\n",
    "validation_data = read_file(validation_file)\n"
   ]
  },
  {
   "cell_type": "code",
   "execution_count": 4,
   "metadata": {},
   "outputs": [
    {
     "name": "stdout",
     "output_type": "stream",
     "text": [
      "37948\n",
      "9987\n",
      "1997\n"
     ]
    }
   ],
   "source": [
    "print(len(train_data))\n",
    "print(len(test_data))\n",
    "print(len(validation_data))"
   ]
  },
  {
   "cell_type": "code",
   "execution_count": 5,
   "metadata": {},
   "outputs": [
    {
     "data": {
      "text/plain": [
       "(['Jersei',\n",
       "  'atinge',\n",
       "  'média',\n",
       "  'de',\n",
       "  'Cr',\n",
       "  '14',\n",
       "  'milhão',\n",
       "  'na',\n",
       "  'venda',\n",
       "  'da',\n",
       "  'Pinhal',\n",
       "  'em',\n",
       "  'São',\n",
       "  'Paulo'],\n",
       " ['N',\n",
       "  'V',\n",
       "  'N',\n",
       "  'PREP',\n",
       "  'CUR',\n",
       "  'NUM',\n",
       "  'N',\n",
       "  'PREP+ART',\n",
       "  'N',\n",
       "  'PREP+ART',\n",
       "  'NPROP',\n",
       "  'PREP',\n",
       "  'NPROP',\n",
       "  'NPROP'])"
      ]
     },
     "execution_count": 5,
     "metadata": {},
     "output_type": "execute_result"
    }
   ],
   "source": [
    "train_data[0]"
   ]
  },
  {
   "cell_type": "code",
   "execution_count": 6,
   "metadata": {},
   "outputs": [
    {
     "name": "stdout",
     "output_type": "stream",
     "text": [
      "47202\n",
      "25\n"
     ]
    }
   ],
   "source": [
    "words, tags = set([]), set([])\n",
    "\n",
    "for sentence in train_data:\n",
    "    for w in sentence[0]:\n",
    "        words.add(w.lower())\n",
    "    \n",
    "    for t in sentence[1]:\n",
    "        tags.add(t)\n",
    "\n",
    "for sentence in validation_data:\n",
    "    for w in sentence[0]:\n",
    "        words.add(w.lower())\n",
    "    \n",
    "    for t in sentence[1]:\n",
    "        tags.add(t)        \n",
    "\n",
    "word2index = {w: i + 2 for i, w in enumerate(list(words))}\n",
    "word2index['-PAD-'] = 0 # the special value usd for padding\n",
    "word2index['-OOV-'] = 1 # the special value used for OOVs\n",
    "\n",
    "tag2index = {t: i + 1 for i, t in enumerate(list(tags))}\n",
    "tag2index['-PAD-'] = 0 # the special value used to padding\n",
    "\n",
    "print(len(words))\n",
    "print(len(tags))"
   ]
  },
  {
   "cell_type": "code",
   "execution_count": 7,
   "metadata": {},
   "outputs": [
    {
     "name": "stdout",
     "output_type": "stream",
     "text": [
      "dict_keys(['ADJ', 'PREP', 'IN', 'PREP+ADV', 'KS', 'PRO-KS', 'V', 'KC', 'N', 'ART', 'PREP+PROSUB', 'PCP', 'PROPESS', 'PREP+ART', 'PREP+PROPESS', 'PROSUB', 'NPROP', 'PDEN', 'PREP+PRO-KS', 'ADV-KS', 'ADV', 'CUR', 'PREP+PROADJ', 'NUM', 'PROADJ', '-PAD-'])\n"
     ]
    }
   ],
   "source": [
    "print(tag2index.keys())"
   ]
  },
  {
   "cell_type": "code",
   "execution_count": 8,
   "metadata": {},
   "outputs": [],
   "source": [
    "def convert_dataset(data, word2index, tag2index):\n",
    "\n",
    "    new_data = []\n",
    "    sentences = []\n",
    "    tags = []\n",
    "    for sentence in data:\n",
    "        int_sentence = []\n",
    "        int_tags = []\n",
    "        for w in sentence[0]:\n",
    "            try:\n",
    "                int_sentence.append(word2index[w.lower()])\n",
    "            except KeyError:\n",
    "                int_sentence.append(word2index['-OOV-'])\n",
    "        for t in sentence[1]:\n",
    "            int_tags.append(tag2index[t])\n",
    "        sentences.append(int_sentence)\n",
    "        tags.append(int_tags)\n",
    "        new_data.append((int_sentence, int_tags))\n",
    "\n",
    "    return new_data, sentences, tags"
   ]
  },
  {
   "cell_type": "code",
   "execution_count": 9,
   "metadata": {},
   "outputs": [],
   "source": [
    "train_data, train_sents, train_tags = convert_dataset(train_data, word2index, tag2index)\n",
    "validation_data, valid_sents, valid_tags = convert_dataset(validation_data, word2index, tag2index)\n",
    "test_data, test_sents, test_tags = convert_dataset(test_data, word2index, tag2index)"
   ]
  },
  {
   "cell_type": "code",
   "execution_count": 10,
   "metadata": {},
   "outputs": [
    {
     "data": {
      "text/plain": [
       "([18645,\n",
       "  38244,\n",
       "  26938,\n",
       "  12235,\n",
       "  45587,\n",
       "  20940,\n",
       "  45067,\n",
       "  16104,\n",
       "  33265,\n",
       "  30524,\n",
       "  44415,\n",
       "  24134,\n",
       "  42996,\n",
       "  11579],\n",
       " [9, 7, 9, 2, 22, 24, 9, 14, 9, 14, 17, 2, 17, 17])"
      ]
     },
     "execution_count": 10,
     "metadata": {},
     "output_type": "execute_result"
    }
   ],
   "source": [
    "train_data[0]"
   ]
  },
  {
   "cell_type": "code",
   "execution_count": 11,
   "metadata": {},
   "outputs": [
    {
     "name": "stdout",
     "output_type": "stream",
     "text": [
      "247\n"
     ]
    }
   ],
   "source": [
    "MAX_LENGTH = len(max(test_sents, key=len))\n",
    "print(MAX_LENGTH)"
   ]
  },
  {
   "cell_type": "code",
   "execution_count": 12,
   "metadata": {},
   "outputs": [
    {
     "name": "stderr",
     "output_type": "stream",
     "text": [
      "Using TensorFlow backend.\n",
      "/Users/Pedro/anaconda3/lib/python3.7/site-packages/tensorflow/python/framework/dtypes.py:526: FutureWarning: Passing (type, 1) or '1type' as a synonym of type is deprecated; in a future version of numpy, it will be understood as (type, (1,)) / '(1,)type'.\n",
      "  _np_qint8 = np.dtype([(\"qint8\", np.int8, 1)])\n",
      "/Users/Pedro/anaconda3/lib/python3.7/site-packages/tensorflow/python/framework/dtypes.py:527: FutureWarning: Passing (type, 1) or '1type' as a synonym of type is deprecated; in a future version of numpy, it will be understood as (type, (1,)) / '(1,)type'.\n",
      "  _np_quint8 = np.dtype([(\"quint8\", np.uint8, 1)])\n",
      "/Users/Pedro/anaconda3/lib/python3.7/site-packages/tensorflow/python/framework/dtypes.py:528: FutureWarning: Passing (type, 1) or '1type' as a synonym of type is deprecated; in a future version of numpy, it will be understood as (type, (1,)) / '(1,)type'.\n",
      "  _np_qint16 = np.dtype([(\"qint16\", np.int16, 1)])\n",
      "/Users/Pedro/anaconda3/lib/python3.7/site-packages/tensorflow/python/framework/dtypes.py:529: FutureWarning: Passing (type, 1) or '1type' as a synonym of type is deprecated; in a future version of numpy, it will be understood as (type, (1,)) / '(1,)type'.\n",
      "  _np_quint16 = np.dtype([(\"quint16\", np.uint16, 1)])\n",
      "/Users/Pedro/anaconda3/lib/python3.7/site-packages/tensorflow/python/framework/dtypes.py:530: FutureWarning: Passing (type, 1) or '1type' as a synonym of type is deprecated; in a future version of numpy, it will be understood as (type, (1,)) / '(1,)type'.\n",
      "  _np_qint32 = np.dtype([(\"qint32\", np.int32, 1)])\n",
      "/Users/Pedro/anaconda3/lib/python3.7/site-packages/tensorflow/python/framework/dtypes.py:535: FutureWarning: Passing (type, 1) or '1type' as a synonym of type is deprecated; in a future version of numpy, it will be understood as (type, (1,)) / '(1,)type'.\n",
      "  np_resource = np.dtype([(\"resource\", np.ubyte, 1)])\n"
     ]
    }
   ],
   "source": [
    "from keras.preprocessing.sequence import pad_sequences\n",
    "\n",
    "train_sents = pad_sequences(train_sents, maxlen=MAX_LENGTH, padding='post')\n",
    "test_sents = pad_sequences(test_sents, maxlen=MAX_LENGTH, padding='post')\n",
    "valid_sents = pad_sequences(valid_sents, maxlen=MAX_LENGTH, padding='post')\n",
    "train_tags = pad_sequences(train_tags, maxlen=MAX_LENGTH, padding='post')\n",
    "test_tags = pad_sequences(test_tags, maxlen=MAX_LENGTH, padding='post')\n",
    "valid_tags = pad_sequences(valid_tags, maxlen=MAX_LENGTH, padding='post')\n"
   ]
  },
  {
   "cell_type": "code",
   "execution_count": 13,
   "metadata": {},
   "outputs": [
    {
     "data": {
      "text/plain": [
       "array([18645, 38244, 26938, 12235, 45587, 20940, 45067, 16104, 33265,\n",
       "       30524, 44415, 24134, 42996, 11579,     0,     0,     0,     0,\n",
       "           0,     0,     0,     0,     0,     0,     0,     0,     0,\n",
       "           0,     0,     0,     0,     0,     0,     0,     0,     0,\n",
       "           0,     0,     0,     0,     0,     0,     0,     0,     0,\n",
       "           0,     0,     0,     0,     0,     0,     0,     0,     0,\n",
       "           0,     0,     0,     0,     0,     0,     0,     0,     0,\n",
       "           0,     0,     0,     0,     0,     0,     0,     0,     0,\n",
       "           0,     0,     0,     0,     0,     0,     0,     0,     0,\n",
       "           0,     0,     0,     0,     0,     0,     0,     0,     0,\n",
       "           0,     0,     0,     0,     0,     0,     0,     0,     0,\n",
       "           0,     0,     0,     0,     0,     0,     0,     0,     0,\n",
       "           0,     0,     0,     0,     0,     0,     0,     0,     0,\n",
       "           0,     0,     0,     0,     0,     0,     0,     0,     0,\n",
       "           0,     0,     0,     0,     0,     0,     0,     0,     0,\n",
       "           0,     0,     0,     0,     0,     0,     0,     0,     0,\n",
       "           0,     0,     0,     0,     0,     0,     0,     0,     0,\n",
       "           0,     0,     0,     0,     0,     0,     0,     0,     0,\n",
       "           0,     0,     0,     0,     0,     0,     0,     0,     0,\n",
       "           0,     0,     0,     0,     0,     0,     0,     0,     0,\n",
       "           0,     0,     0,     0,     0,     0,     0,     0,     0,\n",
       "           0,     0,     0,     0,     0,     0,     0,     0,     0,\n",
       "           0,     0,     0,     0,     0,     0,     0,     0,     0,\n",
       "           0,     0,     0,     0,     0,     0,     0,     0,     0,\n",
       "           0,     0,     0,     0,     0,     0,     0,     0,     0,\n",
       "           0,     0,     0,     0,     0,     0,     0,     0,     0,\n",
       "           0,     0,     0,     0,     0,     0,     0,     0,     0,\n",
       "           0,     0,     0,     0], dtype=int32)"
      ]
     },
     "execution_count": 13,
     "metadata": {},
     "output_type": "execute_result"
    }
   ],
   "source": [
    "train_sents[0]"
   ]
  },
  {
   "cell_type": "code",
   "execution_count": 19,
   "metadata": {},
   "outputs": [
    {
     "name": "stdout",
     "output_type": "stream",
     "text": [
      "WARNING:tensorflow:From /Users/Pedro/anaconda3/lib/python3.7/site-packages/tensorflow/python/ops/resource_variable_ops.py:435: colocate_with (from tensorflow.python.framework.ops) is deprecated and will be removed in a future version.\n",
      "Instructions for updating:\n",
      "Colocations handled automatically by placer.\n",
      "Model: \"sequential_1\"\n",
      "_________________________________________________________________\n",
      "Layer (type)                 Output Shape              Param #   \n",
      "=================================================================\n",
      "embedding_1 (Embedding)      (None, 247, 128)          6042112   \n",
      "_________________________________________________________________\n",
      "bidirectional_1 (Bidirection (None, 247, 512)          788480    \n",
      "_________________________________________________________________\n",
      "time_distributed_1 (TimeDist (None, 247, 26)           13338     \n",
      "_________________________________________________________________\n",
      "activation_1 (Activation)    (None, 247, 26)           0         \n",
      "=================================================================\n",
      "Total params: 6,843,930\n",
      "Trainable params: 6,843,930\n",
      "Non-trainable params: 0\n",
      "_________________________________________________________________\n"
     ]
    }
   ],
   "source": [
    "from keras.models import Sequential\n",
    "from keras.layers import Dense, LSTM, InputLayer, Bidirectional, TimeDistributed, Embedding, Activation\n",
    "from keras.optimizers import Adam\n",
    "\n",
    "model = Sequential()\n",
    "model.add(InputLayer(input_shape=(MAX_LENGTH, )))\n",
    "model.add(Embedding(len(word2index), 128))\n",
    "model.add(Bidirectional(LSTM(256, return_sequences=True)))\n",
    "model.add(TimeDistributed(Dense(len(tag2index))))\n",
    "model.add(Activation('softmax'))\n",
    "\n",
    "model.compile(loss='categorical_crossentropy',\n",
    "              optimizer=Adam(0.001),\n",
    "              metrics=['accuracy'])\n",
    "\n",
    "model.summary()\n"
   ]
  },
  {
   "cell_type": "code",
   "execution_count": 20,
   "metadata": {},
   "outputs": [],
   "source": [
    "import numpy as np\n",
    "\n",
    "def to_categorical(tags, categories):\n",
    "    cat_sequences = []\n",
    "    for t in tags:\n",
    "        cats = []\n",
    "        for item in t:\n",
    "            cats.append(np.zeros(categories))\n",
    "            cats[-1][item] = 1.0\n",
    "        cat_sequences.append(cats)\n",
    "    return np.array(cat_sequences)\n",
    "\n",
    "cat_train_tags = to_categorical(train_tags, len(tag2index))\n",
    "cat_test_tags = to_categorical(test_tags, len(tag2index))\n",
    "cat_valid_tags = to_categorical(valid_tags, len(tag2index))"
   ]
  },
  {
   "cell_type": "code",
   "execution_count": 21,
   "metadata": {},
   "outputs": [
    {
     "name": "stdout",
     "output_type": "stream",
     "text": [
      "WARNING:tensorflow:From /Users/Pedro/anaconda3/lib/python3.7/site-packages/tensorflow/python/ops/math_ops.py:3066: to_int32 (from tensorflow.python.ops.math_ops) is deprecated and will be removed in a future version.\n",
      "Instructions for updating:\n",
      "Use tf.cast instead.\n",
      "WARNING:tensorflow:From /Users/Pedro/anaconda3/lib/python3.7/site-packages/tensorflow/python/ops/math_grad.py:102: div (from tensorflow.python.ops.math_ops) is deprecated and will be removed in a future version.\n",
      "Instructions for updating:\n",
      "Deprecated in favor of operator or tf.math.divide.\n",
      "Train on 37948 samples, validate on 1997 samples\n",
      "Epoch 1/10\n",
      "37948/37948 [==============================] - 1334s 35ms/step - loss: 0.2365 - accuracy: 0.9396 - val_loss: 0.1731 - val_accuracy: 0.9460\n",
      "Epoch 2/10\n",
      "37948/37948 [==============================] - 1309s 35ms/step - loss: 0.1582 - accuracy: 0.9506 - val_loss: 0.1420 - val_accuracy: 0.9559\n",
      "Epoch 3/10\n",
      "37948/37948 [==============================] - 1341s 35ms/step - loss: 0.1272 - accuracy: 0.9601 - val_loss: 0.1210 - val_accuracy: 0.9609\n",
      "Epoch 4/10\n",
      "37948/37948 [==============================] - 1308s 34ms/step - loss: 0.1038 - accuracy: 0.9662 - val_loss: 0.1002 - val_accuracy: 0.9668\n",
      "Epoch 5/10\n",
      "37948/37948 [==============================] - 1302s 34ms/step - loss: 0.0817 - accuracy: 0.9728 - val_loss: 0.0834 - val_accuracy: 0.9727\n",
      "Epoch 6/10\n",
      "37948/37948 [==============================] - 1305s 34ms/step - loss: 0.0672 - accuracy: 0.9775 - val_loss: 0.0752 - val_accuracy: 0.9753\n",
      "Epoch 7/10\n",
      "37948/37948 [==============================] - 1274s 34ms/step - loss: 0.0588 - accuracy: 0.9801 - val_loss: 0.0717 - val_accuracy: 0.9762\n",
      "Epoch 8/10\n",
      "37948/37948 [==============================] - 1271s 33ms/step - loss: 0.0529 - accuracy: 0.9820 - val_loss: 0.0692 - val_accuracy: 0.9770\n",
      "Epoch 9/10\n",
      "37948/37948 [==============================] - 1305s 34ms/step - loss: 0.0483 - accuracy: 0.9836 - val_loss: 0.0685 - val_accuracy: 0.9775\n",
      "Epoch 10/10\n",
      "37948/37948 [==============================] - 1272s 34ms/step - loss: 0.0446 - accuracy: 0.9848 - val_loss: 0.0696 - val_accuracy: 0.9779\n"
     ]
    },
    {
     "data": {
      "text/plain": [
       "<keras.callbacks.callbacks.History at 0x133be4f98>"
      ]
     },
     "execution_count": 21,
     "metadata": {},
     "output_type": "execute_result"
    }
   ],
   "source": [
    "model.fit(train_sents, cat_train_tags, batch_size=128, epochs=10, validation_data=(valid_sents, cat_valid_tags))"
   ]
  },
  {
   "cell_type": "code",
   "execution_count": 22,
   "metadata": {},
   "outputs": [],
   "source": [
    "from keras.models import model_from_json\n",
    "\n",
    "model_json = model.to_json()\n",
    "with open(\"model.json\", \"w\") as json_file:\n",
    "    json_file.write(model_json)\n",
    "# serialize weights to HDF5\n",
    "model.save_weights(\"model.h5\")"
   ]
  },
  {
   "cell_type": "code",
   "execution_count": 23,
   "metadata": {},
   "outputs": [
    {
     "name": "stdout",
     "output_type": "stream",
     "text": [
      "9987/9987 [==============================] - 162s 16ms/step\n"
     ]
    }
   ],
   "source": [
    "scores = model.evaluate(test_sents, cat_test_tags)"
   ]
  },
  {
   "cell_type": "code",
   "execution_count": 41,
   "metadata": {},
   "outputs": [],
   "source": [
    "y_pred = model.predict_classes(test_sents)"
   ]
  },
  {
   "cell_type": "code",
   "execution_count": 42,
   "metadata": {
    "scrolled": true
   },
   "outputs": [
    {
     "name": "stdout",
     "output_type": "stream",
     "text": [
      "accuracy\n",
      "97.91194200515747\n"
     ]
    }
   ],
   "source": [
    "print(model.metrics_names[1])\n",
    "print(scores[1]*100)"
   ]
  },
  {
   "cell_type": "code",
   "execution_count": 43,
   "metadata": {},
   "outputs": [
    {
     "name": "stdout",
     "output_type": "stream",
     "text": [
      "{'val_loss': [0.1731132472238961, 0.14204011385925544, 0.12098578499461271, 0.10021304630552702, 0.0833999932812164, 0.07518302822745795, 0.07174481641786601, 0.06919025868535579, 0.06846943539443706, 0.06962718681045693], 'val_accuracy': [0.9460465908050537, 0.9559014439582825, 0.9608684182167053, 0.9667598605155945, 0.9727404713630676, 0.9752848148345947, 0.976231575012207, 0.9770283102989197, 0.9775331020355225, 0.9779061079025269], 'loss': [0.23651484111733315, 0.15822822358952038, 0.12715189494573492, 0.10382853305536464, 0.08173692309578089, 0.06724865990953487, 0.05881137347854678, 0.05288152550724606, 0.048285490452624404, 0.0445581254066042], 'accuracy': [0.93959045, 0.9506461, 0.96011716, 0.96622205, 0.97281265, 0.9775084, 0.9800535, 0.98200285, 0.9835638, 0.9848012]}\n"
     ]
    }
   ],
   "source": [
    "history = model.history\n",
    "print(history.history)"
   ]
  },
  {
   "cell_type": "code",
   "execution_count": 44,
   "metadata": {},
   "outputs": [
    {
     "data": {
      "image/png": "[encoded data removed]",
      "text/plain": [
       "<Figure size 432x288 with 1 Axes>"
      ]
     },
     "metadata": {
      "needs_background": "light"
     },
     "output_type": "display_data"
    }
   ],
   "source": [
    "import matplotlib.pyplot as plt\n",
    "\n",
    "plt.plot(history.history['accuracy'])\n",
    "plt.plot(history.history['val_accuracy'])\n",
    "plt.title('model accuracy')\n",
    "plt.ylabel('accuracy')\n",
    "plt.xlabel('epoch')\n",
    "plt.legend(['train', 'validation'], loc='upper left')\n",
    "plt.show()"
   ]
  },
  {
   "cell_type": "code",
   "execution_count": 45,
   "metadata": {},
   "outputs": [
    {
     "data": {
      "image/png": "[encoded data removed]",
      "text/plain": [
       "<Figure size 432x288 with 1 Axes>"
      ]
     },
     "metadata": {
      "needs_background": "light"
     },
     "output_type": "display_data"
    }
   ],
   "source": [
    "plt.plot(history.history['loss'])\n",
    "plt.plot(history.history['val_loss'])\n",
    "plt.title('model loss')\n",
    "plt.ylabel('loss')\n",
    "plt.xlabel('epoch')\n",
    "plt.legend(['train', 'validation'], loc='upper right')\n",
    "plt.show()"
   ]
  },
  {
   "cell_type": "code",
   "execution_count": 46,
   "metadata": {},
   "outputs": [],
   "source": [
    "copytest_data = read_file(test_file)\n",
    "copytest_data, copytest_sents, copytest_tags = convert_dataset(copytest_data, word2index, tag2index)"
   ]
  },
  {
   "cell_type": "code",
   "execution_count": 47,
   "metadata": {},
   "outputs": [
    {
     "name": "stdout",
     "output_type": "stream",
     "text": [
      "PROADJ 0.5513608428446005 3417\n",
      "CUR 0.6655405405405406 296\n",
      "N 0.7518957214811535 36134\n",
      "PREP+PROPESS 0.4523809523809524 126\n",
      "V 0.7050930161634644 19674\n",
      "NUM 0.5212554628526023 2517\n",
      "ART 0.7070747217806042 12580\n",
      "PREP+PRO-KS 0.0 58\n",
      "PREP+ADV 0.0 31\n",
      "NPROP 0.6306185170956589 15618\n",
      "PCP 0.5413554633471646 3615\n",
      "PREP+PROADJ 0.6666666666666666 309\n",
      "ADV 0.6365642817730366 5437\n",
      "IN 0.061224489795918366 98\n",
      "PREP+PROSUB 0.27564102564102566 156\n",
      "PREP+ART 0.677725582305735 10218\n",
      "PRO-KS 0.5822323462414578 2195\n",
      "ADJ 0.5177874955678998 8461\n",
      "PROPESS 0.6636521739130434 2875\n",
      "PROSUB 0.419065898912348 1563\n",
      "PREP 0.667779234712123 16778\n",
      "KS 0.5145784081954294 2538\n",
      "PDEN 0.5142332415059688 1089\n",
      "ADV-KS 0.10434782608695652 230\n",
      "KC 0.6011917898918561 4531\n",
      "0.6634140184929322\n"
     ]
    }
   ],
   "source": [
    "tags_names = {}\n",
    "tags_total = {}\n",
    "tags_accuracy = {}\n",
    "\n",
    "for t, id_ in tag2index.items():\n",
    "    tags_names[id_] = t\n",
    "    tags_total[t] = 0\n",
    "    tags_accuracy[t] = 0\n",
    "    \n",
    "total = 0.0\n",
    "corrects = 0.0\n",
    "for j in range(0, len(copytest_tags)):\n",
    "    tags = copytest_tags[j]\n",
    "    tags_pred = y_pred[j]\n",
    "    for i in range(0, len(tags)):\n",
    "        tags_total[tags_names[tags[i]]] += 1\n",
    "        total += 1\n",
    "        if tags[i] == tags_pred[i]:\n",
    "            tags_accuracy[tags_names[tags[i]]] += 1\n",
    "            corrects += 1\n",
    "\n",
    "for t, correct in tags_accuracy.items():\n",
    "    if t != \"-PAD-\":\n",
    "        tags_accuracy[t] = correct/tags_total[t]\n",
    "        print(t, tags_accuracy[t], tags_total[t])\n",
    "\n",
    "print(float(corrects)/total)"
   ]
  },
  {
   "cell_type": "code",
   "execution_count": 35,
   "metadata": {},
   "outputs": [
    {
     "name": "stdout",
     "output_type": "stream",
     "text": [
      "Model: \"sequential_3\"\n",
      "_________________________________________________________________\n",
      "Layer (type)                 Output Shape              Param #   \n",
      "=================================================================\n",
      "embedding_3 (Embedding)      (None, None, 128)         6155776   \n",
      "_________________________________________________________________\n",
      "bidirectional_3 (Bidirection (None, None, 512)         788480    \n",
      "_________________________________________________________________\n",
      "time_distributed_3 (TimeDist (None, None, 27)          13851     \n",
      "_________________________________________________________________\n",
      "activation_3 (Activation)    (None, None, 27)          0         \n",
      "=================================================================\n",
      "Total params: 6,958,107\n",
      "Trainable params: 6,958,107\n",
      "Non-trainable params: 0\n",
      "_________________________________________________________________\n",
      "None\n"
     ]
    }
   ],
   "source": [
    "from keras.models import model_from_json\n",
    "from keras.models import load_model\n",
    "\n",
    "\n",
    "# load json and create model\n",
    "json_file = open('keras-results/model3.json', 'r')\n",
    "loaded_model_json = json_file.read()\n",
    "json_file.close()\n",
    "loaded_model = model_from_json(loaded_model_json)\n",
    "# load weights into new model\n",
    "loaded_model.load_weights(\"keras-results/model3.h5\")\n",
    "\n",
    "# summarize model.\n",
    "print(loaded_model.summary())"
   ]
  },
  {
   "cell_type": "code",
   "execution_count": null,
   "metadata": {},
   "outputs": [],
   "source": []
  }
 ],
 "metadata": {
  "kernelspec": {
   "display_name": "Python 3",
   "language": "python",
   "name": "python3"
  },
  "language_info": {
   "codemirror_mode": {
    "name": "ipython",
    "version": 3
   },
   "file_extension": ".py",
   "mimetype": "text/x-python",
   "name": "python",
   "nbconvert_exporter": "python",
   "pygments_lexer": "ipython3",
   "version": "3.7.4"
  }
 },
 "nbformat": 4,
 "nbformat_minor": 2
}
