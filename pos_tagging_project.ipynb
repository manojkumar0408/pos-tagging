{
  "cells": [
    {
      "cell_type": "code",
      "execution_count": 1,
      "metadata": {
        "id": "VWOPVXfnR-l9"
      },
      "outputs": [],
      "source": [
        "#code 1\n",
        "import string\n",
        "import urllib.request as urllib2\n",
        "\n",
        "\n",
        "def read_file(target_url):\n",
        "\n",
        "    data = []\n",
        "    data2 = urllib2.urlopen(target_url)\n",
        "    # with open(corpus, \"r\") as file:\n",
        "    for line in data2:\n",
        "        line = str(line)\n",
        "        words_tags = line.strip(\"\\n\").split(\" \")\n",
        "        words = [(wt.split(\"_\"))[0] for wt in words_tags][:-1]\n",
        "        words = \" \".join(words)\n",
        "        result = words.translate(str.maketrans('', '', string.punctuation))\n",
        "        words = result.split(\" \")\n",
        "        tags = [(wt.split(\"_\"))[1] for wt in words_tags][:-1]\n",
        "        tags = [t for t in tags if t != 'PU']\n",
        "        data.append((words, tags))\n",
        "\n",
        "    return data\n"
      ]
    },
    {
      "cell_type": "code",
      "execution_count": 2,
      "metadata": {
        "id": "oJvH8C7FR-mM"
      },
      "outputs": [],
      "source": [
        "#code 2\n",
        "train_file = \"https://raw.githubusercontent.com/manojkumar0408/pos-tagging/master/macmorpho-v3/macmorpho-train.txt\"\n",
        "test_file = \"https://raw.githubusercontent.com/manojkumar0408/pos-tagging/master/macmorpho-v3/macmorpho-test.txt\"\n",
        "validation_file = \"https://raw.githubusercontent.com/manojkumar0408/pos-tagging/master/macmorpho-v3/macmorpho-dev.txt\""
      ]
    },
    {
      "cell_type": "code",
      "execution_count": 3,
      "metadata": {
        "id": "mndwo67s644f"
      },
      "outputs": [],
      "source": [
        "#code 3\n",
        "train_data = read_file(train_file)\n",
        "test_data = read_file(test_file)\n",
        "validation_data = read_file(validation_file)"
      ]
    },
    {
      "cell_type": "code",
      "execution_count": 4,
      "metadata": {
        "colab": {
          "base_uri": "https://localhost:8080/"
        },
        "id": "TCbaEK_5R-mO",
        "outputId": "0a3059d0-9f3b-4391-f0a5-ccde3f553374"
      },
      "outputs": [
        {
          "output_type": "stream",
          "name": "stdout",
          "text": [
            "37948\n",
            "9987\n",
            "1997\n"
          ]
        }
      ],
      "source": [
        "#code 4\n",
        "print(len(train_data))\n",
        "print(len(test_data))\n",
        "print(len(validation_data))"
      ]
    },
    {
      "cell_type": "code",
      "execution_count": 5,
      "metadata": {
        "colab": {
          "base_uri": "https://localhost:8080/"
        },
        "id": "YvWidSD1R-mS",
        "outputId": "6a1bdcc1-a09d-454d-de08-b528cb9a68db"
      },
      "outputs": [
        {
          "output_type": "execute_result",
          "data": {
            "text/plain": [
              "(['bJersei',\n",
              "  'atinge',\n",
              "  'mxc3xa9dia',\n",
              "  'de',\n",
              "  'Cr',\n",
              "  '14',\n",
              "  'milhxc3xa3o',\n",
              "  'na',\n",
              "  'venda',\n",
              "  'da',\n",
              "  'Pinhal',\n",
              "  'em',\n",
              "  'Sxc3xa3o',\n",
              "  'Paulo'],\n",
              " ['N',\n",
              "  'V',\n",
              "  'N',\n",
              "  'PREP',\n",
              "  'CUR',\n",
              "  'NUM',\n",
              "  'N',\n",
              "  'PREP+ART',\n",
              "  'N',\n",
              "  'PREP+ART',\n",
              "  'NPROP',\n",
              "  'PREP',\n",
              "  'NPROP',\n",
              "  'NPROP'])"
            ]
          },
          "metadata": {},
          "execution_count": 5
        }
      ],
      "source": [
        "#code 5\n",
        "train_data[0]"
      ]
    },
    {
      "cell_type": "code",
      "execution_count": 6,
      "metadata": {
        "colab": {
          "base_uri": "https://localhost:8080/"
        },
        "id": "X0E0bJwsR-mU",
        "outputId": "e7b404cc-7ac4-466e-fd73-0aa6ea319da2"
      },
      "outputs": [
        {
          "output_type": "stream",
          "name": "stdout",
          "text": [
            "51798\n",
            "25\n"
          ]
        }
      ],
      "source": [
        "#code 6\n",
        "words, tags = set([]), set([])\n",
        "\n",
        "for sentence in train_data:\n",
        "    for w in sentence[0]:\n",
        "        words.add(w.lower())\n",
        "    \n",
        "    for t in sentence[1]:\n",
        "        tags.add(t)\n",
        "\n",
        "for sentence in validation_data:\n",
        "    for w in sentence[0]:\n",
        "        words.add(w.lower())\n",
        "    \n",
        "    for t in sentence[1]:\n",
        "        tags.add(t)        \n",
        "\n",
        "word2index = {w: i + 2 for i, w in enumerate(list(words))}\n",
        "word2index['-PAD-'] = 0 # the special value usd for padding\n",
        "word2index['-OOV-'] = 1 # the special value used for OOVs\n",
        "\n",
        "tag2index = {t: i + 1 for i, t in enumerate(list(tags))}\n",
        "tag2index['-PAD-'] = 0 # the special value used to padding\n",
        "\n",
        "print(len(words))\n",
        "print(len(tags))"
      ]
    },
    {
      "cell_type": "code",
      "execution_count": 7,
      "metadata": {
        "id": "Eay3Jkl9R-mX",
        "outputId": "438e6618-d6bb-4abe-a2f9-c06398a5b0db",
        "colab": {
          "base_uri": "https://localhost:8080/"
        }
      },
      "outputs": [
        {
          "output_type": "stream",
          "name": "stdout",
          "text": [
            "dict_keys(['KC', 'PRO-KS', 'NUM', 'CUR', 'PREP+PROSUB', 'PROADJ', 'PDEN', 'NPROP', 'PREP', 'PREP+ART', 'PCP', 'PROPESS', 'PREP+ADV', 'V', 'IN', 'ART', 'PREP+PROPESS', 'PREP+PRO-KS', 'ADV-KS', 'ADJ', 'N', 'KS', 'PROSUB', 'ADV', 'PREP+PROADJ', '-PAD-'])\n"
          ]
        }
      ],
      "source": [
        "#code 7\n",
        "print(tag2index.keys())"
      ]
    },
    {
      "cell_type": "code",
      "execution_count": 8,
      "metadata": {
        "id": "Udn_T0W7R-mY"
      },
      "outputs": [],
      "source": [
        "#code 8\n",
        "def convert_dataset(data, word2index, tag2index):\n",
        "\n",
        "    new_data = []\n",
        "    sentences = []\n",
        "    tags = []\n",
        "    for sentence in data:\n",
        "        int_sentence = []\n",
        "        int_tags = []\n",
        "        for w in sentence[0]:\n",
        "            try:\n",
        "                int_sentence.append(word2index[w.lower()])\n",
        "            except KeyError:\n",
        "                int_sentence.append(word2index['-OOV-'])\n",
        "        for t in sentence[1]:\n",
        "            int_tags.append(tag2index[t])\n",
        "        sentences.append(int_sentence)\n",
        "        tags.append(int_tags)\n",
        "        new_data.append((int_sentence, int_tags))\n",
        "\n",
        "    return new_data, sentences, tags"
      ]
    },
    {
      "cell_type": "code",
      "execution_count": 9,
      "metadata": {
        "id": "bTBoRXS4R-ma"
      },
      "outputs": [],
      "source": [
        "#code 9\n",
        "train_data, train_sents, train_tags = convert_dataset(train_data, word2index, tag2index)\n",
        "validation_data, valid_sents, valid_tags = convert_dataset(validation_data, word2index, tag2index)\n",
        "test_data, test_sents, test_tags = convert_dataset(test_data, word2index, tag2index)"
      ]
    },
    {
      "cell_type": "code",
      "execution_count": 10,
      "metadata": {
        "id": "Mnd9nBr3R-mc",
        "outputId": "3148ef88-5e02-44de-e1da-cfe0756820b3",
        "colab": {
          "base_uri": "https://localhost:8080/"
        }
      },
      "outputs": [
        {
          "output_type": "execute_result",
          "data": {
            "text/plain": [
              "([25022,\n",
              "  45830,\n",
              "  13859,\n",
              "  2732,\n",
              "  43090,\n",
              "  1602,\n",
              "  3653,\n",
              "  49138,\n",
              "  50726,\n",
              "  25387,\n",
              "  34259,\n",
              "  20091,\n",
              "  50136,\n",
              "  24763],\n",
              " [21, 14, 21, 9, 4, 3, 21, 10, 21, 10, 8, 9, 8, 8])"
            ]
          },
          "metadata": {},
          "execution_count": 10
        }
      ],
      "source": [
        "##code 10\n",
        "train_data[0]"
      ]
    },
    {
      "cell_type": "code",
      "execution_count": 11,
      "metadata": {
        "id": "JMPbjZWWR-me",
        "outputId": "a6c7a780-b08d-45d4-86af-9033279da97e",
        "colab": {
          "base_uri": "https://localhost:8080/"
        }
      },
      "outputs": [
        {
          "output_type": "stream",
          "name": "stdout",
          "text": [
            "247\n"
          ]
        }
      ],
      "source": [
        "#code 11\n",
        "MAX_LENGTH = len(max(test_sents, key=len))\n",
        "print(MAX_LENGTH)"
      ]
    },
    {
      "cell_type": "code",
      "execution_count": 12,
      "metadata": {
        "id": "BJhCJGk1R-mg"
      },
      "outputs": [],
      "source": [
        "#code 12\n",
        "from tensorflow.keras.preprocessing.sequence import pad_sequences\n",
        "\n",
        "train_sents = pad_sequences(train_sents, maxlen=MAX_LENGTH, padding='post')\n",
        "test_sents = pad_sequences(test_sents, maxlen=MAX_LENGTH, padding='post')\n",
        "valid_sents = pad_sequences(valid_sents, maxlen=MAX_LENGTH, padding='post')\n",
        "train_tags = pad_sequences(train_tags, maxlen=MAX_LENGTH, padding='post')\n",
        "test_tags = pad_sequences(test_tags, maxlen=MAX_LENGTH, padding='post')\n",
        "valid_tags = pad_sequences(valid_tags, maxlen=MAX_LENGTH, padding='post')\n"
      ]
    },
    {
      "cell_type": "code",
      "execution_count": 13,
      "metadata": {
        "id": "A7bTTH9xR-mi",
        "outputId": "013a1a04-8802-466a-f2d3-4c5f6d669b39",
        "colab": {
          "base_uri": "https://localhost:8080/"
        }
      },
      "outputs": [
        {
          "output_type": "execute_result",
          "data": {
            "text/plain": [
              "array([25022, 45830, 13859,  2732, 43090,  1602,  3653, 49138, 50726,\n",
              "       25387, 34259, 20091, 50136, 24763,     0,     0,     0,     0,\n",
              "           0,     0,     0,     0,     0,     0,     0,     0,     0,\n",
              "           0,     0,     0,     0,     0,     0,     0,     0,     0,\n",
              "           0,     0,     0,     0,     0,     0,     0,     0,     0,\n",
              "           0,     0,     0,     0,     0,     0,     0,     0,     0,\n",
              "           0,     0,     0,     0,     0,     0,     0,     0,     0,\n",
              "           0,     0,     0,     0,     0,     0,     0,     0,     0,\n",
              "           0,     0,     0,     0,     0,     0,     0,     0,     0,\n",
              "           0,     0,     0,     0,     0,     0,     0,     0,     0,\n",
              "           0,     0,     0,     0,     0,     0,     0,     0,     0,\n",
              "           0,     0,     0,     0,     0,     0,     0,     0,     0,\n",
              "           0,     0,     0,     0,     0,     0,     0,     0,     0,\n",
              "           0,     0,     0,     0,     0,     0,     0,     0,     0,\n",
              "           0,     0,     0,     0,     0,     0,     0,     0,     0,\n",
              "           0,     0,     0,     0,     0,     0,     0,     0,     0,\n",
              "           0,     0,     0,     0,     0,     0,     0,     0,     0,\n",
              "           0,     0,     0,     0,     0,     0,     0,     0,     0,\n",
              "           0,     0,     0,     0,     0,     0,     0,     0,     0,\n",
              "           0,     0,     0,     0,     0,     0,     0,     0,     0,\n",
              "           0,     0,     0,     0,     0,     0,     0,     0,     0,\n",
              "           0,     0,     0,     0,     0,     0,     0,     0,     0,\n",
              "           0,     0,     0,     0,     0,     0,     0,     0,     0,\n",
              "           0,     0,     0,     0,     0,     0,     0,     0,     0,\n",
              "           0,     0,     0,     0,     0,     0,     0,     0,     0,\n",
              "           0,     0,     0,     0,     0,     0,     0,     0,     0,\n",
              "           0,     0,     0,     0,     0,     0,     0,     0,     0,\n",
              "           0,     0,     0,     0], dtype=int32)"
            ]
          },
          "metadata": {},
          "execution_count": 13
        }
      ],
      "source": [
        "#code 13\n",
        "train_sents[0]"
      ]
    },
    {
      "cell_type": "code",
      "execution_count": 14,
      "metadata": {
        "id": "pXxLzatkR-mj",
        "colab": {
          "base_uri": "https://localhost:8080/"
        },
        "outputId": "e6ced7f4-126f-4224-f97b-5b5b131b65fa"
      },
      "outputs": [
        {
          "output_type": "stream",
          "name": "stdout",
          "text": [
            "Model: \"sequential\"\n",
            "_________________________________________________________________\n",
            " Layer (type)                Output Shape              Param #   \n",
            "=================================================================\n",
            " embedding (Embedding)       (None, 247, 128)          6630400   \n",
            "                                                                 \n",
            " bidirectional (Bidirectiona  (None, 247, 512)         788480    \n",
            " l)                                                              \n",
            "                                                                 \n",
            " time_distributed (TimeDistr  (None, 247, 26)          13338     \n",
            " ibuted)                                                         \n",
            "                                                                 \n",
            " activation (Activation)     (None, 247, 26)           0         \n",
            "                                                                 \n",
            "=================================================================\n",
            "Total params: 7,432,218\n",
            "Trainable params: 7,432,218\n",
            "Non-trainable params: 0\n",
            "_________________________________________________________________\n"
          ]
        }
      ],
      "source": [
        "#code 14\n",
        "from keras.models import Sequential\n",
        "from keras.layers import Dense, LSTM, InputLayer, Bidirectional, TimeDistributed, Embedding, Activation\n",
        "from keras.optimizers import Adam\n",
        "\n",
        "model = Sequential()\n",
        "model.add(InputLayer(input_shape=(MAX_LENGTH, )))\n",
        "model.add(Embedding(len(word2index), 128))\n",
        "model.add(Bidirectional(LSTM(256, return_sequences=True)))\n",
        "model.add(TimeDistributed(Dense(len(tag2index))))\n",
        "model.add(Activation('softmax'))\n",
        "\n",
        "model.compile(loss='categorical_crossentropy',\n",
        "              optimizer=Adam(0.001),\n",
        "              metrics=['accuracy'])\n",
        "\n",
        "model.summary()\n"
      ]
    },
    {
      "cell_type": "code",
      "execution_count": 15,
      "metadata": {
        "id": "ifMplSpXR-mk"
      },
      "outputs": [],
      "source": [
        "#code 15\n",
        "import numpy as np\n",
        "\n",
        "def to_categorical(tags, categories):\n",
        "    cat_sequences = []\n",
        "    for t in tags:\n",
        "        cats = []\n",
        "        for item in t:\n",
        "            cats.append(np.zeros(categories))\n",
        "            cats[-1][item] = 1.0\n",
        "        cat_sequences.append(cats)\n",
        "    return np.array(cat_sequences)\n",
        "\n",
        "cat_train_tags = to_categorical(train_tags, len(tag2index))\n",
        "cat_test_tags = to_categorical(test_tags, len(tag2index))\n",
        "cat_valid_tags = to_categorical(valid_tags, len(tag2index))"
      ]
    },
    {
      "cell_type": "code",
      "execution_count": 16,
      "metadata": {
        "id": "rJnYtrWuR-ml",
        "colab": {
          "base_uri": "https://localhost:8080/"
        },
        "outputId": "6368b698-31b8-4491-f522-a24c7425a3b0"
      },
      "outputs": [
        {
          "output_type": "stream",
          "name": "stdout",
          "text": [
            "Epoch 1/5\n",
            "149/149 - 28s - loss: 0.2978 - accuracy: 0.9345 - val_loss: 0.1797 - val_accuracy: 0.9458 - 28s/epoch - 190ms/step\n",
            "Epoch 2/5\n",
            "149/149 - 21s - loss: 0.1680 - accuracy: 0.9479 - val_loss: 0.1658 - val_accuracy: 0.9481 - 21s/epoch - 144ms/step\n",
            "Epoch 3/5\n",
            "149/149 - 21s - loss: 0.1576 - accuracy: 0.9503 - val_loss: 0.1530 - val_accuracy: 0.9514 - 21s/epoch - 138ms/step\n",
            "Epoch 4/5\n",
            "149/149 - 20s - loss: 0.1394 - accuracy: 0.9564 - val_loss: 0.1336 - val_accuracy: 0.9575 - 20s/epoch - 136ms/step\n",
            "Epoch 5/5\n",
            "149/149 - 20s - loss: 0.1224 - accuracy: 0.9609 - val_loss: 0.1216 - val_accuracy: 0.9603 - 20s/epoch - 137ms/step\n"
          ]
        }
      ],
      "source": [
        "#code 16\n",
        "history = model.fit(train_sents, cat_train_tags, batch_size=256, epochs=5, validation_data=(valid_sents, cat_valid_tags),verbose=2)"
      ]
    },
    {
      "cell_type": "code",
      "source": [
        "#code 17\n",
        "print(history.history.keys())"
      ],
      "metadata": {
        "colab": {
          "base_uri": "https://localhost:8080/"
        },
        "id": "kmvaN05CAZJL",
        "outputId": "a87e982d-52be-429a-f519-37061dd6dcbb"
      },
      "execution_count": 17,
      "outputs": [
        {
          "output_type": "stream",
          "name": "stdout",
          "text": [
            "dict_keys(['loss', 'accuracy', 'val_loss', 'val_accuracy'])\n"
          ]
        }
      ]
    },
    {
      "cell_type": "code",
      "execution_count": 18,
      "metadata": {
        "id": "1YsRcX52R-ml"
      },
      "outputs": [],
      "source": [
        "#code 18\n",
        "from keras.models import model_from_json\n",
        "\n",
        "model_json = model.to_json()\n",
        "with open(\"model.json\", \"w\") as json_file:\n",
        "    json_file.write(model_json)\n",
        "# serialize weights to HDF5\n",
        "model.save_weights(\"model.h5\")"
      ]
    },
    {
      "cell_type": "code",
      "execution_count": 19,
      "metadata": {
        "id": "6tvu4LXnR-mm",
        "colab": {
          "base_uri": "https://localhost:8080/"
        },
        "outputId": "fd9e34b2-b618-4ba8-8003-846c66421e63"
      },
      "outputs": [
        {
          "output_type": "stream",
          "name": "stdout",
          "text": [
            "313/313 [==============================] - 4s 14ms/step - loss: 0.1146 - accuracy: 0.9628\n"
          ]
        }
      ],
      "source": [
        "#code 19\n",
        "scores = model.evaluate(test_sents, cat_test_tags)"
      ]
    },
    {
      "cell_type": "code",
      "execution_count": 20,
      "metadata": {
        "id": "D4OF7LtcR-mm",
        "colab": {
          "base_uri": "https://localhost:8080/"
        },
        "outputId": "7ec97f55-98bd-4b6f-932d-5916d6259187"
      },
      "outputs": [
        {
          "output_type": "stream",
          "name": "stdout",
          "text": [
            "313/313 [==============================] - 5s 12ms/step\n"
          ]
        }
      ],
      "source": [
        "#y_pred = model.predict_classes(test_sents)\n",
        "#code 20\n",
        "y_pred= np.argmax(model.predict(test_sents), axis=-1)"
      ]
    },
    {
      "cell_type": "code",
      "execution_count": 21,
      "metadata": {
        "id": "GcMV03r-R-mn",
        "scrolled": true,
        "colab": {
          "base_uri": "https://localhost:8080/"
        },
        "outputId": "334566c4-d161-4e74-fd62-37bd13fdcb92"
      },
      "outputs": [
        {
          "output_type": "stream",
          "name": "stdout",
          "text": [
            "accuracy\n",
            "96.27540111541748\n"
          ]
        }
      ],
      "source": [
        "#code 21\n",
        "print(model.metrics_names[1])\n",
        "print(scores[1]*100)"
      ]
    },
    {
      "cell_type": "code",
      "source": [
        "#code 22\n",
        "print(history.history.keys())"
      ],
      "metadata": {
        "colab": {
          "base_uri": "https://localhost:8080/"
        },
        "id": "SC8At_9p_adC",
        "outputId": "04be942d-2302-43f3-e781-10b4b194e4f5"
      },
      "execution_count": 22,
      "outputs": [
        {
          "output_type": "stream",
          "name": "stdout",
          "text": [
            "dict_keys(['loss', 'accuracy', 'val_loss', 'val_accuracy'])\n"
          ]
        }
      ]
    },
    {
      "cell_type": "code",
      "execution_count": 23,
      "metadata": {
        "id": "14hrKcHSR-mo",
        "colab": {
          "base_uri": "https://localhost:8080/",
          "height": 472
        },
        "outputId": "7759b57f-73e6-43f7-f69c-cd79704ce321"
      },
      "outputs": [
        {
          "output_type": "display_data",
          "data": {
            "text/plain": [
              "<Figure size 640x480 with 1 Axes>"
            ],
            "image/png": "[encoded data removed]"
          },
          "metadata": {}
        }
      ],
      "source": [
        "#code 23\n",
        "# import matplotlib.pyplot as plt\n",
        "import keras\n",
        "from matplotlib import pyplot as plt\n",
        "plt.plot(history.history['accuracy'])\n",
        "plt.plot(history.history['val_accuracy'])\n",
        "plt.title('model accuracy')\n",
        "plt.ylabel('accuracy')\n",
        "plt.xlabel('epoch')\n",
        "plt.legend(['train', 'validation'], loc='upper left')\n",
        "plt.show()\n"
      ]
    },
    {
      "cell_type": "code",
      "execution_count": 24,
      "metadata": {
        "id": "_DBhH4HgR-mp",
        "colab": {
          "base_uri": "https://localhost:8080/",
          "height": 472
        },
        "outputId": "9f9fe32d-0662-49b1-e4ba-ab596bc7e776"
      },
      "outputs": [
        {
          "output_type": "display_data",
          "data": {
            "text/plain": [
              "<Figure size 640x480 with 1 Axes>"
            ],
            "image/png": "[encoded data removed]"
          },
          "metadata": {}
        }
      ],
      "source": [
        "#code 24\n",
        "plt.plot(history.history['loss'])\n",
        "plt.plot(history.history['val_loss'])\n",
        "plt.title('model loss')\n",
        "plt.ylabel('loss')\n",
        "plt.xlabel('epoch')\n",
        "plt.legend(['train', 'validation'], loc='upper right')\n",
        "plt.show()"
      ]
    },
    {
      "cell_type": "code",
      "execution_count": 25,
      "metadata": {
        "id": "5d2GimyqR-mp"
      },
      "outputs": [],
      "source": [
        "#code 25\n",
        "copytest_data = read_file(test_file)\n",
        "copytest_data, copytest_sents, copytest_tags = convert_dataset(copytest_data, word2index, tag2index)"
      ]
    },
    {
      "cell_type": "code",
      "execution_count": 26,
      "metadata": {
        "id": "DAWsR3RFR-mq",
        "colab": {
          "base_uri": "https://localhost:8080/"
        },
        "outputId": "aa8ba695-bbaf-45c9-a8ef-3e30b866f232"
      },
      "outputs": [
        {
          "output_type": "stream",
          "name": "stdout",
          "text": [
            "KC 0.1911277863606268 4531\n",
            "PRO-KS 0.004100227790432802 2195\n",
            "NUM 0.027016289233214145 2517\n",
            "CUR 0.0 296\n",
            "PREP+PROSUB 0.0 156\n",
            "PROADJ 0.01726660813579163 3417\n",
            "PDEN 0.0 1089\n",
            "NPROP 0.5487258291714688 15618\n",
            "PREP 0.4468947431159852 16778\n",
            "PREP+ART 0.2896848698375416 10218\n",
            "PCP 0.0 3615\n",
            "PROPESS 0.03826086956521739 2875\n",
            "PREP+ADV 0.0 31\n",
            "V 0.5660770560130121 19674\n",
            "IN 0.0 98\n",
            "ART 0.5465023847376789 12580\n",
            "PREP+PROPESS 0.0 126\n",
            "PREP+PRO-KS 0.0 58\n",
            "ADV-KS 0.0 230\n",
            "ADJ 0.0 8461\n",
            "N 0.5743897714064317 36134\n",
            "KS 0.14026792750197006 2538\n",
            "PROSUB 0.0 1563\n",
            "ADV 0.02685304395806511 5437\n",
            "PREP+PROADJ 0.0 309\n",
            "0.3946288128387714\n"
          ]
        }
      ],
      "source": [
        "#code 26\n",
        "tags_names = {}\n",
        "tags_total = {}\n",
        "tags_accuracy = {}\n",
        "\n",
        "for t, id_ in tag2index.items():\n",
        "    tags_names[id_] = t\n",
        "    tags_total[t] = 0\n",
        "    tags_accuracy[t] = 0\n",
        "    \n",
        "total = 0.0\n",
        "corrects = 0.0\n",
        "for j in range(0, len(copytest_tags)):\n",
        "    tags = copytest_tags[j]\n",
        "    tags_pred = y_pred[j]\n",
        "    for i in range(0, len(tags)):\n",
        "        tags_total[tags_names[tags[i]]] += 1\n",
        "        total += 1\n",
        "        if tags[i] == tags_pred[i]:\n",
        "            tags_accuracy[tags_names[tags[i]]] += 1\n",
        "            corrects += 1\n",
        "\n",
        "for t, correct in tags_accuracy.items():\n",
        "    if t != \"-PAD-\":\n",
        "        tags_accuracy[t] = correct/tags_total[t]\n",
        "        print(t, tags_accuracy[t], tags_total[t])\n",
        "\n",
        "print(float(corrects)/total)"
      ]
    },
    {
      "cell_type": "code",
      "execution_count": 27,
      "metadata": {
        "id": "HzWxwZYzR-mq",
        "colab": {
          "base_uri": "https://localhost:8080/"
        },
        "outputId": "58fa251b-3e9d-4061-9ff6-109bf33394b2"
      },
      "outputs": [
        {
          "output_type": "stream",
          "name": "stdout",
          "text": [
            "Loaded model from disk\n",
            "Model: \"sequential\"\n",
            "_________________________________________________________________\n",
            " Layer (type)                Output Shape              Param #   \n",
            "=================================================================\n",
            " embedding (Embedding)       (None, 247, 128)          6630400   \n",
            "                                                                 \n",
            " bidirectional (Bidirectiona  (None, 247, 512)         788480    \n",
            " l)                                                              \n",
            "                                                                 \n",
            " time_distributed (TimeDistr  (None, 247, 26)          13338     \n",
            " ibuted)                                                         \n",
            "                                                                 \n",
            " activation (Activation)     (None, 247, 26)           0         \n",
            "                                                                 \n",
            "=================================================================\n",
            "Total params: 7,432,218\n",
            "Trainable params: 7,432,218\n",
            "Non-trainable params: 0\n",
            "_________________________________________________________________\n",
            "None\n"
          ]
        }
      ],
      "source": [
        "#code 27\n",
        "from keras.models import model_from_json\n",
        "from keras.models import load_model\n",
        "\n",
        "# load json and create model\n",
        "json_file = open('model.json', 'r')\n",
        "loaded_model_json = json_file.read()\n",
        "json_file.close()\n",
        "loaded_model = model_from_json(loaded_model_json)\n",
        "# load weights into new model\n",
        "loaded_model.load_weights(\"model.h5\")\n",
        "print(\"Loaded model from disk\")\n",
        "\n",
        "# json_file = open('keras-results/model3.json', 'r')\n",
        "# loaded_model_json = json_file.read()\n",
        "# json_file.close()\n",
        "# loaded_model = model_from_json(loaded_model_json)\n",
        "# # load weights into new model\n",
        "# loaded_model.load_weights(\"keras-results/model3.h5\")\n",
        "\n",
        "# # summarize model.\n",
        "print(loaded_model.summary())"
      ]
    }
  ],
  "metadata": {
    "colab": {
      "provenance": []
    },
    "kernelspec": {
      "display_name": "Python 3",
      "language": "python",
      "name": "python3"
    },
    "language_info": {
      "codemirror_mode": {
        "name": "ipython",
        "version": 3
      },
      "file_extension": ".py",
      "mimetype": "text/x-python",
      "name": "python",
      "nbconvert_exporter": "python",
      "pygments_lexer": "ipython3",
      "version": "3.7.4"
    },
    "accelerator": "GPU",
    "gpuClass": "standard"
  },
  "nbformat": 4,
  "nbformat_minor": 0
}